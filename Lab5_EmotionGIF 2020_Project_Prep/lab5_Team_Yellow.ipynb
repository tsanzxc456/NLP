{
  "nbformat": 4,
  "nbformat_minor": 0,
  "metadata": {
    "colab": {
      "name": "lab5-Team-Yellow.ipynb",
      "provenance": [],
      "collapsed_sections": [
        "m79Tn1tyy2TE"
      ],
      "toc_visible": true,
      "include_colab_link": true
    },
    "kernelspec": {
      "name": "python3",
      "display_name": "Python 3"
    }
  },
  "cells": [
    {
      "cell_type": "markdown",
      "metadata": {
        "id": "view-in-github",
        "colab_type": "text"
      },
      "source": [
        "<a href=\"https://colab.research.google.com/github/tsanzxc456/NLP/blob/master/lab5_Team_Yellow.ipynb\" target=\"_parent\"><img src=\"https://colab.research.google.com/assets/colab-badge.svg\" alt=\"Open In Colab\"/></a>"
      ]
    },
    {
      "cell_type": "markdown",
      "metadata": {
        "id": "m79Tn1tyy2TE",
        "colab_type": "text"
      },
      "source": [
        "# Part 1"
      ]
    },
    {
      "cell_type": "code",
      "metadata": {
        "id": "Rjm-Vuz0wKpx",
        "colab_type": "code",
        "colab": {}
      },
      "source": [
        "import pandas as pd\n",
        "from sklearn.feature_extraction.text import CountVectorizer, TfidfTransformer, TfidfVectorizer\n",
        "from sklearn.naive_bayes import GaussianNB, MultinomialNB\n",
        "from sklearn.model_selection import train_test_split\n",
        "from sklearn.linear_model import LogisticRegression\n",
        "from sklearn.metrics import classification_report, confusion_matrix, accuracy_score\n",
        "from collections import Counter\n",
        "import json\n",
        "import requests\n",
        "!mkdir -p majority_labels\n",
        "!mkdir -p Naive_Bayes"
      ],
      "execution_count": 1,
      "outputs": []
    },
    {
      "cell_type": "markdown",
      "metadata": {
        "id": "sA3D_gujy9e4",
        "colab_type": "text"
      },
      "source": [
        "## Fetch the data"
      ]
    },
    {
      "cell_type": "code",
      "metadata": {
        "id": "xK1ecAyzuqin",
        "colab_type": "code",
        "colab": {
          "base_uri": "https://localhost:8080/",
          "height": 195
        },
        "outputId": "0f83958c-4fda-4ad5-ea31-9fb1631a617c"
      },
      "source": [
        "data = pd.read_csv(\"https://nctu_team_yellow.imfast.io/nlp_final_project/train_gold.csv\", delimiter=',', header=None, names=['idx', 'text', 'reply', 'categories', 'mp4'])\n",
        "dev_data = pd.read_csv(\"https://nctu_team_yellow.imfast.io/nlp_final_project/dev_unlabeled.csv\", delimiter=',', header=None, names=['idx', 'text', 'reply'])[1:]\n",
        "train_data, test_data = train_test_split(data, test_size=0.1, random_state=43)\n",
        "\n",
        "train_data.sample(5)"
      ],
      "execution_count": 2,
      "outputs": [
        {
          "output_type": "execute_result",
          "data": {
            "text/html": [
              "<div>\n",
              "<style scoped>\n",
              "    .dataframe tbody tr th:only-of-type {\n",
              "        vertical-align: middle;\n",
              "    }\n",
              "\n",
              "    .dataframe tbody tr th {\n",
              "        vertical-align: top;\n",
              "    }\n",
              "\n",
              "    .dataframe thead th {\n",
              "        text-align: right;\n",
              "    }\n",
              "</style>\n",
              "<table border=\"1\" class=\"dataframe\">\n",
              "  <thead>\n",
              "    <tr style=\"text-align: right;\">\n",
              "      <th></th>\n",
              "      <th>idx</th>\n",
              "      <th>text</th>\n",
              "      <th>reply</th>\n",
              "      <th>categories</th>\n",
              "      <th>mp4</th>\n",
              "    </tr>\n",
              "  </thead>\n",
              "  <tbody>\n",
              "    <tr>\n",
              "      <th>26639</th>\n",
              "      <td>26639</td>\n",
              "      <td>I used to be a psycho ass bitch when I was wit...</td>\n",
              "      <td>NaN</td>\n",
              "      <td>[\"idk\"]</td>\n",
              "      <td>ef42a8cbd387818768d89a9806fdfd97.mp4</td>\n",
              "    </tr>\n",
              "    <tr>\n",
              "      <th>11835</th>\n",
              "      <td>11835</td>\n",
              "      <td>Now that we know who the essential workers are...</td>\n",
              "      <td>NaN</td>\n",
              "      <td>[\"applause\"]</td>\n",
              "      <td>9b63f04e19f73f724d688eea1e62ca14.mp4</td>\n",
              "    </tr>\n",
              "    <tr>\n",
              "      <th>31045</th>\n",
              "      <td>31045</td>\n",
              "      <td>.@OANN Poll “Gives President Trump a 52% Appro...</td>\n",
              "      <td>NaN</td>\n",
              "      <td>[\"no\",\"seriously\",\"facepalm\",\"omg\"]</td>\n",
              "      <td>1bc0c284efc0248643651404ff6236eb.mp4</td>\n",
              "    </tr>\n",
              "    <tr>\n",
              "      <th>16016</th>\n",
              "      <td>16016</td>\n",
              "      <td>Do you think Fox News is a danger to the USA? ...</td>\n",
              "      <td>Yes, definitely</td>\n",
              "      <td>[\"agree\",\"yes\"]</td>\n",
              "      <td>0eacf9770d45e333f6156124267f8010.mp4</td>\n",
              "    </tr>\n",
              "    <tr>\n",
              "      <th>22558</th>\n",
              "      <td>22558</td>\n",
              "      <td>I don’t like when someone screenshots my SC</td>\n",
              "      <td>NaN</td>\n",
              "      <td>[\"ok\"]</td>\n",
              "      <td>23e4ad1b7c3781b340cf3be84a043475.mp4</td>\n",
              "    </tr>\n",
              "  </tbody>\n",
              "</table>\n",
              "</div>"
            ],
            "text/plain": [
              "         idx  ...                                   mp4\n",
              "26639  26639  ...  ef42a8cbd387818768d89a9806fdfd97.mp4\n",
              "11835  11835  ...  9b63f04e19f73f724d688eea1e62ca14.mp4\n",
              "31045  31045  ...  1bc0c284efc0248643651404ff6236eb.mp4\n",
              "16016  16016  ...  0eacf9770d45e333f6156124267f8010.mp4\n",
              "22558  22558  ...  23e4ad1b7c3781b340cf3be84a043475.mp4\n",
              "\n",
              "[5 rows x 5 columns]"
            ]
          },
          "metadata": {
            "tags": []
          },
          "execution_count": 2
        }
      ]
    },
    {
      "cell_type": "markdown",
      "metadata": {
        "id": "k9h-L4MGyvPO",
        "colab_type": "text"
      },
      "source": [
        "## Number of samples that have N categories, for 1 <= N <= 6"
      ]
    },
    {
      "cell_type": "code",
      "metadata": {
        "id": "s38YK54qyx8h",
        "colab_type": "code",
        "colab": {
          "base_uri": "https://localhost:8080/",
          "height": 118
        },
        "outputId": "7220ad0b-ece4-42dc-9023-fe835e14e3b9"
      },
      "source": [
        "categories = [\"agree\", \"applause\", \"awww\", \"dance\", \"deal_with_it\", \"do_not_want\", \"eww\", \"eye_roll\", \"facepalm\", \"fist_bump\", \"good_luck\", \"happy_dance\", \"hearts\", \"high_five\", \"hug\", \"idk\", \"kiss\", \"mic_drop\", \"no\", \"oh_snap\", \"ok\", \"omg\", \"oops\", \"please\", \"popcorn\", \"scared\", \"seriously\", \"shocked\", \"shrug\", \"sigh\", \"slow_clap\", \"smh\", \"sorry\", \"thank_you\", \"thumbs_down\", \"thumbs_up\", \"want\", \"win\", \"wink\", \"yawn\", \"yes\", \"yolo\", \"you_got_this\"]\n",
        "N_categories_list = [0,0,0,0,0,0]\n",
        "train_cate_list = train_data.categories.tolist()\n",
        "\n",
        "for k in range(len(train_cate_list)):\n",
        "  x = 0\n",
        "  for i in range(0,len(categories)):\n",
        "    if train_cate_list[k].find(categories[i]) != -1:\n",
        "      x = x + 1\n",
        "  N_categories_list[x-1] = N_categories_list[x-1] + 1\n",
        "\n",
        "print(\"Number of samples that have 1 categorie :\", N_categories_list[0])\n",
        "print(\"Number of samples that have 2 categories :\", N_categories_list[1])\n",
        "print(\"Number of samples that have 3 categories :\", N_categories_list[2])\n",
        "print(\"Number of samples that have 4 categories :\", N_categories_list[3])\n",
        "print(\"Number of samples that have 5 categories :\", N_categories_list[4])\n",
        "print(\"Number of samples that have 6 categories :\", N_categories_list[5])\n"
      ],
      "execution_count": 3,
      "outputs": [
        {
          "output_type": "stream",
          "text": [
            "Number of samples that have 1 categorie : 20180\n",
            "Number of samples that have 2 categories : 5316\n",
            "Number of samples that have 3 categories : 1975\n",
            "Number of samples that have 4 categories : 753\n",
            "Number of samples that have 5 categories : 348\n",
            "Number of samples that have 6 categories : 228\n"
          ],
          "name": "stdout"
        }
      ]
    },
    {
      "cell_type": "markdown",
      "metadata": {
        "id": "ZHztPm_n2JHG",
        "colab_type": "text"
      },
      "source": [
        "## Category distribution (how many times does each category appear)"
      ]
    },
    {
      "cell_type": "code",
      "metadata": {
        "id": "oR4SymIL2KuF",
        "colab_type": "code",
        "colab": {
          "base_uri": "https://localhost:8080/",
          "height": 739
        },
        "outputId": "85b6df15-85d2-4201-c967-8832bb03a21f"
      },
      "source": [
        "categories_distrubution = {}\n",
        "for cate in categories:\n",
        "  categories_distrubution[cate] = 0\n",
        "\n",
        "for k in range(len(train_cate_list)):\n",
        "  for i in range(0,len(categories)):\n",
        "    if train_cate_list[k].find(categories[i]) != -1:\n",
        "      categories_distrubution[categories[i]] = categories_distrubution[categories[i]] + 1\n",
        "\n",
        "categories_distrubution"
      ],
      "execution_count": 4,
      "outputs": [
        {
          "output_type": "execute_result",
          "data": {
            "text/plain": [
              "{'agree': 2678,\n",
              " 'applause': 3091,\n",
              " 'awww': 887,\n",
              " 'dance': 1207,\n",
              " 'deal_with_it': 386,\n",
              " 'do_not_want': 301,\n",
              " 'eww': 826,\n",
              " 'eye_roll': 1098,\n",
              " 'facepalm': 1795,\n",
              " 'fist_bump': 267,\n",
              " 'good_luck': 640,\n",
              " 'happy_dance': 714,\n",
              " 'hearts': 305,\n",
              " 'high_five': 489,\n",
              " 'hug': 2925,\n",
              " 'idk': 970,\n",
              " 'kiss': 165,\n",
              " 'mic_drop': 154,\n",
              " 'no': 2125,\n",
              " 'oh_snap': 800,\n",
              " 'ok': 784,\n",
              " 'omg': 1394,\n",
              " 'oops': 735,\n",
              " 'please': 548,\n",
              " 'popcorn': 527,\n",
              " 'scared': 751,\n",
              " 'seriously': 1802,\n",
              " 'shocked': 1519,\n",
              " 'shrug': 768,\n",
              " 'sigh': 1599,\n",
              " 'slow_clap': 1215,\n",
              " 'smh': 1698,\n",
              " 'sorry': 304,\n",
              " 'thank_you': 765,\n",
              " 'thumbs_down': 196,\n",
              " 'thumbs_up': 619,\n",
              " 'want': 562,\n",
              " 'win': 934,\n",
              " 'wink': 517,\n",
              " 'yawn': 414,\n",
              " 'yes': 2459,\n",
              " 'yolo': 182,\n",
              " 'you_got_this': 742}"
            ]
          },
          "metadata": {
            "tags": []
          },
          "execution_count": 4
        }
      ]
    },
    {
      "cell_type": "markdown",
      "metadata": {
        "id": "miyAEo5D_NFp",
        "colab_type": "text"
      },
      "source": [
        "## 10 most common pairs of co-occurring categories"
      ]
    },
    {
      "cell_type": "code",
      "metadata": {
        "id": "jl9w0g9X_PKq",
        "colab_type": "code",
        "colab": {}
      },
      "source": [
        "categories_co_occurring_list = []\n",
        "for i in range(len(categories)):\n",
        "  for cate in categories[i:]:\n",
        "    if categories[i] != cate :\n",
        "      categories_co_occurring_list.append(categories[i] + ',' + cate)\n",
        "\n",
        "categories_co_occurring_dict = {}\n",
        "for co_cate in categories_co_occurring_list:\n",
        "  categories_co_occurring_dict[co_cate] = 0\n",
        "\n",
        "\n",
        "for k in range(len(train_cate_list)):\n",
        "  for i in range(len(categories)):\n",
        "    for cate in categories[i:]:\n",
        "      if train_cate_list[k].find(categories[i]) != -1 and train_cate_list[k].find(cate) != -1 and categories[i] != cate:\n",
        "        categories_co_occurring_dict[categories[i]+','+cate] = categories_co_occurring_dict[categories[i]+','+cate] + 1"
      ],
      "execution_count": 5,
      "outputs": []
    },
    {
      "cell_type": "code",
      "metadata": {
        "id": "nKrK-HZiIQm9",
        "colab_type": "code",
        "colab": {
          "base_uri": "https://localhost:8080/",
          "height": 185
        },
        "outputId": "0f28bd68-cac5-429c-976b-6b3730b52552"
      },
      "source": [
        "co_occur_counter = Counter(categories_co_occurring_dict)\n",
        "co_occur_counter.most_common(10)"
      ],
      "execution_count": 6,
      "outputs": [
        {
          "output_type": "execute_result",
          "data": {
            "text/plain": [
              "[('facepalm,seriously', 1063),\n",
              " ('applause,slow_clap', 1037),\n",
              " ('agree,yes', 995),\n",
              " ('sigh,smh', 972),\n",
              " ('facepalm,sigh', 951),\n",
              " ('facepalm,smh', 900),\n",
              " ('seriously,sigh', 798),\n",
              " ('dance,happy_dance', 714),\n",
              " ('seriously,smh', 706),\n",
              " ('omg,shocked', 698)]"
            ]
          },
          "metadata": {
            "tags": []
          },
          "execution_count": 6
        }
      ]
    },
    {
      "cell_type": "markdown",
      "metadata": {
        "id": "ej__9yDaLZQ6",
        "colab_type": "text"
      },
      "source": [
        "# Part 2"
      ]
    },
    {
      "cell_type": "markdown",
      "metadata": {
        "id": "f5nXMyNQaXU3",
        "colab_type": "text"
      },
      "source": [
        "## Majority Prediction (predict on the same 6 majority labels)"
      ]
    },
    {
      "cell_type": "markdown",
      "metadata": {
        "id": "vvntK50FouxC",
        "colab_type": "text"
      },
      "source": [
        "### Extracting 6 most popular labels."
      ]
    },
    {
      "cell_type": "code",
      "metadata": {
        "id": "p8O6MRaH33KC",
        "colab_type": "code",
        "colab": {}
      },
      "source": [
        "categories_distrubution_counter = Counter(categories_distrubution)\n",
        "majority_labels = categories_distrubution_counter.most_common(6)"
      ],
      "execution_count": 7,
      "outputs": []
    },
    {
      "cell_type": "code",
      "metadata": {
        "id": "JJRJrDqX8kqx",
        "colab_type": "code",
        "colab": {}
      },
      "source": [
        "majority_labels_list = [majority_label[0] for majority_label in majority_labels]\n",
        "majority_labels_lists = [majority_labels_list for x in range(len(dev_data))]\n",
        "dev_result = pd.read_csv(\"https://nctu_team_yellow.imfast.io/nlp_final_project/dev_unlabeled.csv\", delimiter=',', header=None, names=['idx', 'text', 'reply'])[1:]\n",
        "tmp_reply = dev_result.reply.tolist()\n",
        "for (i,reply) in enumerate(tmp_reply):\n",
        "  if type(reply) != str:\n",
        "    tmp_reply[i] = ''\n",
        "tmp_idx = dev_result.idx.tolist()\n",
        "for (i,idx) in enumerate(tmp_idx):\n",
        "  tmp_idx[i] = int(tmp_idx[i])\n",
        "dev_result = dev_result[['text']]\n",
        "dev_result.insert(0,\"idx\",tmp_idx),\n",
        "dev_result.insert(1,\"categories\",majority_labels_lists)\n",
        "dev_result.insert(2,\"reply\",tmp_reply)\n",
        "dev_result.to_json('./majority_labels/dev.json',orient='records',force_ascii=False,lines=True)"
      ],
      "execution_count": 8,
      "outputs": []
    },
    {
      "cell_type": "markdown",
      "metadata": {
        "id": "FBwgq0m5bHdt",
        "colab_type": "text"
      },
      "source": [
        "## Naive Bayes\n"
      ]
    },
    {
      "cell_type": "markdown",
      "metadata": {
        "id": "ZZMhI7DLodHc",
        "colab_type": "text"
      },
      "source": [
        "### Vectorizing data using default parameters\n"
      ]
    },
    {
      "cell_type": "code",
      "metadata": {
        "id": "pBAfUOsfoZ84",
        "colab_type": "code",
        "colab": {
          "base_uri": "https://localhost:8080/",
          "height": 34
        },
        "outputId": "4a6a49c3-c572-450d-a154-057ba4b194c3"
      },
      "source": [
        "vectorizer = TfidfVectorizer() \n",
        "vectorizer.fit(train_data['text'])\n",
        "train_feature = vectorizer.transform(train_data['text'])\n",
        "test_feature = vectorizer.transform(test_data['text'])\n",
        "dev_feature = vectorizer.transform(dev_data['text'])\n",
        "\n",
        "train_feature.shape, test_feature.shape, dev_feature.shape"
      ],
      "execution_count": 9,
      "outputs": [
        {
          "output_type": "execute_result",
          "data": {
            "text/plain": [
              "((28800, 33132), (3200, 33132), (4000, 33132))"
            ]
          },
          "metadata": {
            "tags": []
          },
          "execution_count": 9
        }
      ]
    },
    {
      "cell_type": "markdown",
      "metadata": {
        "id": "po5J-5evG9nt",
        "colab_type": "text"
      },
      "source": [
        "### Extract first GIF category in each sample."
      ]
    },
    {
      "cell_type": "code",
      "metadata": {
        "id": "HLL6eLAdykXC",
        "colab_type": "code",
        "colab": {}
      },
      "source": [
        "# The following is done for simplification\n",
        "test_cate_list = test_data.categories.tolist()\n",
        "\n",
        "train_label_first = [train_cate[2:min(train_cate.find('\"]'),train_cate.find(',\"'))-1] for train_cate in train_cate_list]\n",
        "test_label_first = [test_cate[2:min(test_cate.find('\"]'),test_cate.find(',\"'))-1] for test_cate in test_cate_list]"
      ],
      "execution_count": 10,
      "outputs": []
    },
    {
      "cell_type": "markdown",
      "metadata": {
        "id": "1UOEWjpOedTj",
        "colab_type": "text"
      },
      "source": [
        "### Train and Predict !!"
      ]
    },
    {
      "cell_type": "code",
      "metadata": {
        "id": "0bOjyVOTbRDP",
        "colab_type": "code",
        "colab": {}
      },
      "source": [
        "model = MultinomialNB()\n",
        "model.fit(train_feature.toarray(),train_label_first)\n",
        "pred_label = model.predict(test_feature.toarray())"
      ],
      "execution_count": 11,
      "outputs": []
    },
    {
      "cell_type": "markdown",
      "metadata": {
        "id": "LoMw3zD9gElx",
        "colab_type": "text"
      },
      "source": [
        "### Evaluation (for test data)"
      ]
    },
    {
      "cell_type": "code",
      "metadata": {
        "id": "LnGGchGYAQvM",
        "colab_type": "code",
        "colab": {
          "base_uri": "https://localhost:8080/",
          "height": 927
        },
        "outputId": "386a620a-e97b-4884-f5ad-fa6fe9444c22"
      },
      "source": [
        "print(accuracy_score(test_label_first, pred_label))\n",
        "print(classification_report(test_label_first, pred_label, digits=3))"
      ],
      "execution_count": 12,
      "outputs": [
        {
          "output_type": "stream",
          "text": [
            "0.1953125\n",
            "              precision    recall  f1-score   support\n",
            "\n",
            "       agree      0.140     0.544     0.223       298\n",
            "    applause      0.205     0.149     0.172       235\n",
            "        awww      0.000     0.000     0.000        82\n",
            "       dance      0.000     0.000     0.000        80\n",
            "deal_with_it      0.000     0.000     0.000        37\n",
            " do_not_want      0.000     0.000     0.000        10\n",
            "         eww      0.214     0.043     0.072        69\n",
            "    eye_roll      0.275     0.114     0.161       123\n",
            "    facepalm      0.000     0.000     0.000        38\n",
            "   fist_bump      0.000     0.000     0.000        21\n",
            "   good_luck      0.000     0.000     0.000        68\n",
            " happy_dance      0.000     0.000     0.000        56\n",
            "      hearts      0.000     0.000     0.000        32\n",
            "   high_five      0.000     0.000     0.000        30\n",
            "         hug      0.195     0.968     0.325       310\n",
            "         idk      0.000     0.000     0.000        26\n",
            "        kiss      0.000     0.000     0.000        25\n",
            "    mic_drop      0.000     0.000     0.000        15\n",
            "          no      0.376     0.360     0.368       214\n",
            "     oh_snap      0.667     0.019     0.037       104\n",
            "          ok      0.000     0.000     0.000        65\n",
            "         omg      0.000     0.000     0.000        18\n",
            "        oops      0.000     0.000     0.000        21\n",
            "      please      0.538     0.121     0.197        58\n",
            "     popcorn      0.000     0.000     0.000        56\n",
            "      scared      0.000     0.000     0.000        72\n",
            "   seriously      0.000     0.000     0.000       125\n",
            "     shocked      0.000     0.000     0.000       114\n",
            "       shrug      0.000     0.000     0.000        73\n",
            "        sigh      0.000     0.000     0.000        30\n",
            "   slow_clap      0.000     0.000     0.000       128\n",
            "         smh      0.000     0.000     0.000       110\n",
            "       sorry      0.000     0.000     0.000        26\n",
            "   thank_you      0.250     0.011     0.020        95\n",
            " thumbs_down      0.000     0.000     0.000        23\n",
            "   thumbs_up      0.846     0.500     0.629        44\n",
            "        want      0.000     0.000     0.000        22\n",
            "         win      0.000     0.000     0.000        48\n",
            "        wink      0.000     0.000     0.000        55\n",
            "        yawn      0.000     0.000     0.000        22\n",
            "         yes      0.118     0.020     0.034       100\n",
            "        yolo      0.000     0.000     0.000         3\n",
            "you_got_this      0.000     0.000     0.000        19\n",
            "\n",
            "    accuracy                          0.195      3200\n",
            "   macro avg      0.089     0.066     0.052      3200\n",
            "weighted avg      0.141     0.195     0.112      3200\n",
            "\n"
          ],
          "name": "stdout"
        },
        {
          "output_type": "stream",
          "text": [
            "/usr/local/lib/python3.6/dist-packages/sklearn/metrics/_classification.py:1272: UndefinedMetricWarning: Precision and F-score are ill-defined and being set to 0.0 in labels with no predicted samples. Use `zero_division` parameter to control this behavior.\n",
            "  _warn_prf(average, modifier, msg_start, len(result))\n"
          ],
          "name": "stderr"
        }
      ]
    },
    {
      "cell_type": "markdown",
      "metadata": {
        "id": "Cg7spOrVgYAU",
        "colab_type": "text"
      },
      "source": [
        "### For each sample in eval file, pick 6 highest probability categories."
      ]
    },
    {
      "cell_type": "code",
      "metadata": {
        "id": "riO9FFR3EyJT",
        "colab_type": "code",
        "colab": {}
      },
      "source": [
        "probabilities = model.predict_proba(dev_feature.toarray())\n",
        "probabilities_list = probabilities.tolist()\n",
        "pred_dev_label = []\n",
        "\n",
        "for i in range(0,len(probabilities_list)):\n",
        "  ranks = sorted( [(x,i) for (i,x) in enumerate(probabilities_list[i])], reverse=True )\n",
        "  values = []\n",
        "  cate_indexs = []\n",
        "  predict_cates = []\n",
        "  for x,i in ranks:\n",
        "      if x not in values:\n",
        "          values.append( x )\n",
        "          cate_indexs.append( i )\n",
        "          if len(values) == 6:\n",
        "              break\n",
        "  predict_cates = [categories[k] for k in cate_indexs]\n",
        "  pred_dev_label.append(predict_cates)"
      ],
      "execution_count": 13,
      "outputs": []
    },
    {
      "cell_type": "code",
      "metadata": {
        "id": "BMmicowqFgeu",
        "colab_type": "code",
        "colab": {}
      },
      "source": [
        "dev_result2 = pd.read_csv(\"https://nctu_team_yellow.imfast.io/nlp_final_project/dev_unlabeled.csv\", delimiter=',', header=None, names=['idx', 'text', 'reply'])[1:]\n",
        "tmp_reply = dev_result2.reply.tolist()\n",
        "for (i,reply) in enumerate(tmp_reply):\n",
        "  if type(reply) != str:\n",
        "    tmp_reply[i] = ''\n",
        "tmp_idx = dev_result2.idx.tolist()\n",
        "for (i,idx) in enumerate(tmp_idx):\n",
        "  tmp_idx[i] = int(tmp_idx[i])\n",
        "dev_result2 = dev_result2[['text']]\n",
        "dev_result2.insert(0,\"idx\",tmp_idx),\n",
        "dev_result2.insert(1,\"categories\",pred_dev_label)\n",
        "dev_result2.insert(2,\"reply\",tmp_reply)\n",
        "dev_result2.to_json('./Naive_Bayes/dev.json',orient='records',force_ascii=False,lines=True)\n"
      ],
      "execution_count": 14,
      "outputs": []
    }
  ]
}
